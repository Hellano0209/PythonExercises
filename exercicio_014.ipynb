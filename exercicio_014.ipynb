{
  "nbformat": 4,
  "nbformat_minor": 0,
  "metadata": {
    "colab": {
      "provenance": []
    },
    "kernelspec": {
      "name": "python3",
      "display_name": "Python 3"
    },
    "language_info": {
      "name": "python"
    }
  },
  "cells": [
    {
      "cell_type": "markdown",
      "source": [
        "# EXERCÍCIO 014 DO CURSO DE PYTHON\n",
        "\n",
        "Esse programa convete graus celsios para graus fahrenheit."
      ],
      "metadata": {
        "id": "iEVqjGsA0tBj"
      }
    },
    {
      "cell_type": "code",
      "execution_count": 1,
      "metadata": {
        "colab": {
          "base_uri": "https://localhost:8080/"
        },
        "id": "NOTDJ-jw0lbn",
        "outputId": "efd6cf6b-cadf-473b-e3ba-6138fa506ef4"
      },
      "outputs": [
        {
          "output_type": "stream",
          "name": "stdout",
          "text": [
            "Temperatura em ºC: 0\n",
            "0.0ºC é equivalente a 32.0ºF.\n"
          ]
        }
      ],
      "source": [
        "grauc = float(input('Temperatura em ºC: '))\n",
        "\n",
        "grauf = (grauc*9/5) + 32\n",
        "\n",
        "print('{:.2f}ºC é equivalente a {:.2f}ºF.'.format(grauc, grauf))"
      ]
    }
  ]
}